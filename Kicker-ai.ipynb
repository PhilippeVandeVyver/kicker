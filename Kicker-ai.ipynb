{
 "cells": [
  {
   "cell_type": "code",
   "execution_count": null,
   "id": "bbcad195",
   "metadata": {},
   "outputs": [],
   "source": [
    "from ultralytics import yolo"
   ]
  },
  {
   "cell_type": "code",
   "execution_count": null,
   "id": "5e63b0a4",
   "metadata": {},
   "outputs": [],
   "source": [
    "model = yolo(\"yoloy11s-seg.pt\")"
   ]
  },
  {
   "cell_type": "code",
   "execution_count": null,
   "id": "d72bcdbe",
   "metadata": {},
   "outputs": [],
   "source": [
    "result = model(\"\")"
   ]
  }
 ],
 "metadata": {
  "language_info": {
   "name": "python"
  }
 },
 "nbformat": 4,
 "nbformat_minor": 5
}
